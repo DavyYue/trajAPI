{
 "cells": [
  {
   "cell_type": "markdown",
   "metadata": {},
   "source": [
    "# testAPI_propane\n",
    "\n",
    "Created by Davy Yue 2017-06-22\n",
    "\n",
    "\n",
    "### Imports"
   ]
  },
  {
   "cell_type": "code",
   "execution_count": null,
   "metadata": {},
   "outputs": [],
   "source": [
    "import itertools\n",
    "import string\n",
    "import os\n",
    "\n",
    "import numpy as np\n",
    "import matplotlib.pyplot as plt\n",
    "%matplotlib inline\n",
    "\n",
    "from msibi import MSIBI, State, Pair, mie\n",
    "import mdtraj as md"
   ]
  },
  {
   "cell_type": "markdown",
   "metadata": {
    "collapsed": true
   },
   "source": [
    "## PROPANE - edition (code to be expanded)\n",
    "\n",
    "Where the real magic happens"
   ]
  },
  {
   "cell_type": "code",
   "execution_count": null,
   "metadata": {
    "scrolled": false
   },
   "outputs": [],
   "source": [
    "t = md.load('traj_unwrapped.dcd', top='start_aa.hoomdxml')"
   ]
  },
  {
   "cell_type": "markdown",
   "metadata": {},
   "source": [
    "### Mapping and application\n",
    "\n",
    "Keys being CG bead indices and values being a list of atom indices corresponding to each CG bead\n",
    "\n",
    "e.g., {prop0: [0, 1, 2], prop1: [3, 4, 5], prop2: [6, 7, 8], …}\n",
    "\n",
    "Construct for entire system"
   ]
  },
  {
   "cell_type": "code",
   "execution_count": null,
   "metadata": {},
   "outputs": [],
   "source": [
    "cg_idx = 0\n",
    "start_idx = 0\n",
    "n_propane = 1024 #passed later\n",
    "propane_map = {0: [0, 1, 2]}\n",
    "system_mapping = {}\n",
    "for n in range(n_propane):\n",
    "    for bead, atoms in propane_map.items():\n",
    "        system_mapping[cg_idx] = [x + start_idx for x in atoms]\n",
    "        start_idx += len(atoms)\n",
    "        cg_idx += 1\n",
    "         \n",
    "# print(system_mapping)"
   ]
  },
  {
   "cell_type": "markdown",
   "metadata": {},
   "source": [
    "With mapping for whole system, apply to all atom trajectory"
   ]
  },
  {
   "cell_type": "code",
   "execution_count": null,
   "metadata": {},
   "outputs": [],
   "source": [
    "from mdtraj.core import element\n",
    "list(t.top.atoms)[0].element = element.carbon\n",
    "list(t.top.atoms)[0].element.mass\n",
    "for atom in t.top.atoms:\n",
    "    atom.element = element.carbon"
   ]
  },
  {
   "cell_type": "code",
   "execution_count": null,
   "metadata": {},
   "outputs": [],
   "source": [
    "cg_xyz = np.empty((t.n_frames, len(system_mapping), 3))\n",
    "for cg_bead, aa_indices in system_mapping.items():\n",
    "    cg_xyz[:, cg_bead, :] = md.compute_center_of_mass(t.atom_slice(aa_indices))\n",
    "    \n",
    "# print(cg_xyz)"
   ]
  },
  {
   "cell_type": "markdown",
   "metadata": {},
   "source": [
    "### Traj & Obj\n",
    "\n",
    "* Create new Trajectory object & CG Topology object\n",
    "\n",
    "* Save resultant trajectory file"
   ]
  },
  {
   "cell_type": "code",
   "execution_count": null,
   "metadata": {},
   "outputs": [],
   "source": [
    "cg_top = md.Topology()\n",
    "for cg_bead in system_mapping.keys():\n",
    "    cg_top.add_atom('carbon', element.virtual_site, cg_top.add_residue('A', cg_top.add_chain())) \n",
    "    \n",
    "cg_traj = md.Trajectory(cg_xyz, cg_top, time=None, unitcell_lengths=t.unitcell_lengths, unitcell_angles=t.unitcell_angles)\n",
    "cg_traj.save_dcd('cg_traj.dcd')\n",
    "\n",
    "# print(cg_traj)\n",
    "# print(cg_top)\n",
    "# print(cg_xyz)"
   ]
  },
  {
   "cell_type": "markdown",
   "metadata": {},
   "source": [
    "### Calculate RDF and save"
   ]
  },
  {
   "cell_type": "code",
   "execution_count": null,
   "metadata": {},
   "outputs": [],
   "source": [
    "pairs = cg_traj.top.select_pairs(selection1='name \"carbon\"', selection2='name \"carbon\"')\n",
    "\n",
    "# mdtraj.compute_rdf(traj, pairs=None, r_range=None, bin_width=0.005, n_bins=None, periodic=True, opt=True)\n",
    "r, g_r = md.compute_rdf(cg_traj, pairs=pairs, r_range=(0, 1.2), bin_width=0.005)\n",
    "np.savetxt('rdfs_aa.txt', np.transpose([r, g_r]))"
   ]
  },
  {
   "cell_type": "code",
   "execution_count": null,
   "metadata": {},
   "outputs": [],
   "source": [
    "fig, ax = plt.subplots()\n",
    "ax.plot(r, g_r)\n",
    "ax.set_xlabel(\"r\")\n",
    "ax.set_ylabel(\"g(r)\")"
   ]
  },
  {
   "cell_type": "code",
   "execution_count": null,
   "metadata": {
    "collapsed": true
   },
   "outputs": [],
   "source": [
    "# 2017_06_26 4:00 PM CST\n",
    "# TO DO: Wrap above in a function\n",
    "# - print the plot in one line\n",
    "# - think about inputs and outputs"
   ]
  }
 ],
 "metadata": {
  "kernelspec": {
   "display_name": "Python 3",
   "language": "python",
   "name": "python3"
  },
  "language_info": {
   "codemirror_mode": {
    "name": "ipython",
    "version": 3
   },
   "file_extension": ".py",
   "mimetype": "text/x-python",
   "name": "python",
   "nbconvert_exporter": "python",
   "pygments_lexer": "ipython3",
   "version": "3.5.3"
  },
  "widgets": {
   "state": {
    "0167551767ac4299a760fb1f479ad1b1": {
     "views": [
      {
       "cell_index": 2
      }
     ]
    },
    "0c7a72e241b341ab8ca29ce3292b3ea3": {
     "views": [
      {
       "cell_index": 2
      }
     ]
    },
    "1fca05dfeb3d4987893759f4cc0520ea": {
     "views": [
      {
       "cell_index": 3
      }
     ]
    },
    "56215d591c034eff8b0899b7e18d5cba": {
     "views": [
      {
       "cell_index": 3
      }
     ]
    }
   },
   "version": "1.2.0"
  }
 },
 "nbformat": 4,
 "nbformat_minor": 1
}
