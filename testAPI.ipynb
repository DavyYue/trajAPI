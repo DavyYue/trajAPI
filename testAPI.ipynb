{
 "cells": [
  {
   "cell_type": "markdown",
   "metadata": {},
   "source": [
    "# testAPI\n",
    "\n",
    "Created by Davy Yue 2017-06-22\n",
    "\n",
    "\n",
    "### Imports"
   ]
  },
  {
   "cell_type": "code",
   "execution_count": 18,
   "metadata": {},
   "outputs": [
    {
     "data": {
      "text/plain": [
       "'1.8.0'"
      ]
     },
     "execution_count": 18,
     "metadata": {},
     "output_type": "execute_result"
    }
   ],
   "source": [
    "import itertools\n",
    "import string\n",
    "import os\n",
    "\n",
    "import numpy as np\n",
    "\n",
    "from msibi import MSIBI, State, Pair, mie\n",
    "import mdtraj as md"
   ]
  },
  {
   "cell_type": "markdown",
   "metadata": {
    "collapsed": true
   },
   "source": [
    "### Actual Code\n",
    "\n",
    "Where the real magic happens"
   ]
  },
  {
   "cell_type": "code",
   "execution_count": 21,
   "metadata": {},
   "outputs": [
    {
     "name": "stdout",
     "output_type": "stream",
     "text": [
      "<mdtraj.Trajectory with 500 frames, 3072 atoms, 1024 residues, and unitcells>\n",
      "Number of Chains: 1024\n",
      "Topology: <mdtraj.Topology with 1024 chains, 1024 residues, 3072 atoms, 2048 bonds>\n",
      "Topology 2: <mdtraj.Topology with 1024 chains, 1024 residues, 3072 atoms, 2048 bonds>\n"
     ]
    }
   ],
   "source": [
    "t = md.load('traj_unwrapped.dcd', top='start_aa.hoomdxml')\n",
    "print(t)\n",
    "print(\"Number of Chains: {0}\".format(t.n_chains))\n",
    "print(\"Topology: {0}\".format(t.top))"
   ]
  },
  {
   "cell_type": "code",
   "execution_count": null,
   "metadata": {},
   "outputs": [],
   "source": []
  },
  {
   "cell_type": "code",
   "execution_count": null,
   "metadata": {
    "collapsed": true
   },
   "outputs": [],
   "source": []
  }
 ],
 "metadata": {
  "kernelspec": {
   "display_name": "Python 3",
   "language": "python",
   "name": "python3"
  },
  "language_info": {
   "codemirror_mode": {
    "name": "ipython",
    "version": 3
   },
   "file_extension": ".py",
   "mimetype": "text/x-python",
   "name": "python",
   "nbconvert_exporter": "python",
   "pygments_lexer": "ipython3",
   "version": "3.5.3"
  },
  "widgets": {
   "state": {
    "0167551767ac4299a760fb1f479ad1b1": {
     "views": [
      {
       "cell_index": 2
      }
     ]
    },
    "0c7a72e241b341ab8ca29ce3292b3ea3": {
     "views": [
      {
       "cell_index": 2
      }
     ]
    },
    "1fca05dfeb3d4987893759f4cc0520ea": {
     "views": [
      {
       "cell_index": 3
      }
     ]
    },
    "56215d591c034eff8b0899b7e18d5cba": {
     "views": [
      {
       "cell_index": 3
      }
     ]
    }
   },
   "version": "1.2.0"
  }
 },
 "nbformat": 4,
 "nbformat_minor": 1
}
