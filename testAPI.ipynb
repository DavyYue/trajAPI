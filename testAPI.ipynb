{
 "cells": [
  {
   "cell_type": "markdown",
   "metadata": {},
   "source": [
    "# testAPI_propane\n",
    "\n",
    "Created by Davy Yue 2017-06-22\n",
    "\n",
    "\n",
    "### Imports"
   ]
  },
  {
   "cell_type": "code",
   "execution_count": null,
   "metadata": {},
   "outputs": [],
   "source": [
    "import itertools\n",
    "import string\n",
    "import os\n",
    "\n",
    "import numpy as np\n",
    "\n",
    "from msibi import MSIBI, State, Pair, mie\n",
    "import mdtraj as md"
   ]
  },
  {
   "cell_type": "markdown",
   "metadata": {
    "collapsed": true
   },
   "source": [
    "## PROPANE - edition (code to be expanded)\n",
    "\n",
    "Where the real magic happens"
   ]
  },
  {
   "cell_type": "code",
   "execution_count": null,
   "metadata": {
    "scrolled": false
   },
   "outputs": [],
   "source": [
    "t = md.load('traj_unwrapped.dcd', top='start_aa.hoomdxml')\n",
    "\n",
    "# print info for debugging\n",
    "# print(t)\n",
    "# print(\"Number of Chains: {0}\".format(t.n_chains))\n",
    "# print(\"Topology: {0}\".format(t.top))"
   ]
  },
  {
   "cell_type": "markdown",
   "metadata": {},
   "source": [
    "### Mapping and application\n",
    "\n",
    "Keys being CG bead indices and values being a list of atom indices corresponding to each CG bead\n",
    "\n",
    "e.g., {prop0: [0, 1, 2], prop1: [3, 4, 5], prop2: [6, 7, 8], …}\n",
    "\n",
    "Construct for entire system"
   ]
  },
  {
   "cell_type": "code",
   "execution_count": null,
   "metadata": {},
   "outputs": [],
   "source": [
    "cg_idx = 0\n",
    "start_idx = 0\n",
    "propane_map = {0: [0, 1, 2]}\n",
    "for n in range(n_propane):\n",
    "    for bead, atoms in propane_map.items():\n",
    "        System_mapping[cg_idx] = [x + start_idx for x in atoms]"
   ]
  },
  {
   "cell_type": "markdown",
   "metadata": {},
   "source": [
    "With mapping for whole system, apply to all atom trajectory"
   ]
  },
  {
   "cell_type": "code",
   "execution_count": null,
   "metadata": {
    "collapsed": true
   },
   "outputs": [],
   "source": [
    "cg_xyz = np.empty((traj.n_frames, traj.n_atoms/3, 3))\n",
    "for cg_bead, aa_indices in system_mapping.items():\n",
    "    cg_xyz[:, cg_bead, :] = center_of_mass(aa_indices)"
   ]
  },
  {
   "cell_type": "markdown",
   "metadata": {},
   "source": [
    "### Traj & Obj\n",
    "\n",
    "Create new Trajectory object & CG Topology object - save resultant trajectory file"
   ]
  },
  {
   "cell_type": "code",
   "execution_count": null,
   "metadata": {
    "collapsed": true
   },
   "outputs": [],
   "source": [
    "cg_top = md.Topology()\n",
    "for cg_bead in system_mapping.keys():\n",
    "    cg_top.add_atom(...) #figure out content of parameters\n",
    "    \n",
    "\n",
    "cg_traj = md.Trajectory(cg_xyz, cg_top, # other arguments)\n",
    "cg_traj.save(cg-traj.dcd)"
   ]
  },
  {
   "cell_type": "markdown",
   "metadata": {},
   "source": [
    "### Calculate RDF and save"
   ]
  },
  {
   "cell_type": "code",
   "execution_count": null,
   "metadata": {
    "collapsed": true
   },
   "outputs": [],
   "source": [
    "md.compute_rdf(cg_traj, pairs) #refer to compute_rdf documentation\n",
    "#add code to save outputted file"
   ]
  },
  {
   "cell_type": "code",
   "execution_count": null,
   "metadata": {
    "collapsed": true
   },
   "outputs": [],
   "source": []
  }
 ],
 "metadata": {
  "kernelspec": {
   "display_name": "Python 3",
   "language": "python",
   "name": "python3"
  },
  "language_info": {
   "codemirror_mode": {
    "name": "ipython",
    "version": 3
   },
   "file_extension": ".py",
   "mimetype": "text/x-python",
   "name": "python",
   "nbconvert_exporter": "python",
   "pygments_lexer": "ipython3",
   "version": "3.5.3"
  },
  "widgets": {
   "state": {
    "0167551767ac4299a760fb1f479ad1b1": {
     "views": [
      {
       "cell_index": 2
      }
     ]
    },
    "0c7a72e241b341ab8ca29ce3292b3ea3": {
     "views": [
      {
       "cell_index": 2
      }
     ]
    },
    "1fca05dfeb3d4987893759f4cc0520ea": {
     "views": [
      {
       "cell_index": 3
      }
     ]
    },
    "56215d591c034eff8b0899b7e18d5cba": {
     "views": [
      {
       "cell_index": 3
      }
     ]
    }
   },
   "version": "1.2.0"
  }
 },
 "nbformat": 4,
 "nbformat_minor": 1
}
