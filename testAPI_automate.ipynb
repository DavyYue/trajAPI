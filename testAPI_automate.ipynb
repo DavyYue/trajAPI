{
 "cells": [
  {
   "cell_type": "markdown",
   "metadata": {},
   "source": [
    "# testAPI_automate\n",
    "\n",
    "Created by Davy Yue 2017-06-26"
   ]
  },
  {
   "cell_type": "markdown",
   "metadata": {},
   "source": [
    "## Testing for Conversion into Function/Class ==============================\n",
    "\n",
    "Code May Break At Anytime"
   ]
  },
  {
   "cell_type": "code",
   "execution_count": 1,
   "metadata": {
    "collapsed": true
   },
   "outputs": [],
   "source": [
    "# 2017_06_26 4:00 PM CST\n",
    "# **** DEBUGGING/TESTING NOTES ****\n",
    "# - wrap above code in a function\n",
    "# - print the plot in one line\n",
    "# - think about inputs and outputs\n",
    "# - think about where variables can be passed as parameters\n",
    "# - need test cases - maybe with n-dodecane\n",
    "# - check with generated rdfs from above to compare results\n",
    "# - maybe use more functions to call\n",
    "# - consider adaptation for other organic molecules \n",
    "#      (carbon, hydrogen, nitrogen, oxygen, phosphorus, and sulfur)\n",
    "#      CHNOP\n",
    "# - need ability to have multiple elements (later testing phase)"
   ]
  },
  {
   "cell_type": "markdown",
   "metadata": {},
   "source": [
    "### Imports"
   ]
  },
  {
   "cell_type": "code",
   "execution_count": 2,
   "metadata": {
    "collapsed": true
   },
   "outputs": [],
   "source": [
    "import itertools\n",
    "import string\n",
    "import os\n",
    "\n",
    "import numpy as np\n",
    "import matplotlib.pyplot as plt\n",
    "%matplotlib inline\n",
    "\n",
    "from msibi import MSIBI, State, Pair, mie\n",
    "import mdtraj as md\n",
    "\n",
    "# check possible other packages to ease process"
   ]
  },
  {
   "cell_type": "markdown",
   "metadata": {},
   "source": [
    "### Functions"
   ]
  },
  {
   "cell_type": "code",
   "execution_count": 3,
   "metadata": {
    "collapsed": true
   },
   "outputs": [],
   "source": [
    "def initialize(element_names):\n",
    "    ## for loop to traverse element_names array for elements\n",
    "    ## first test - only use for carbon (one element)\n",
    "    ## then expand later\n",
    "    ## need to allow for different types of elements together\n",
    "    \n",
    "    map_beads(element_names)"
   ]
  },
  {
   "cell_type": "code",
   "execution_count": 4,
   "metadata": {
    "collapsed": true
   },
   "outputs": [],
   "source": [
    "def map_beads(element_names):\n",
    "    # Initialize atoms with elements\n",
    "    from mdtraj.core import element\n",
    "    list(t.top.atoms)[0].element = element.carbon # check element\n",
    "    list(t.top.atoms)[0].element.mass\n",
    "    for atom in t.top.atoms:\n",
    "        atom.element = element.carbon # check element\n",
    "    \n",
    "    # Map the beads accordingly\n",
    "    cg_idx = 0\n",
    "    start_idx = 0\n",
    "    ## maybe need another function to read files in and extract information\n",
    "    ## then call the other funcitons with the necessary parameters\n",
    "    n_propane = 1024 #passed later as parameter\n",
    "    propane_map = {0: [0, 1, 2]} ## need better mapping definition\n",
    "                                ## maybe integrate mapping with file read-in\n",
    "    system_mapping = {}\n",
    "    for n in range(n_propane):\n",
    "        for bead, atoms in propane_map.items():\n",
    "            system_mapping[cg_idx] = [x + start_idx for x in atoms]\n",
    "            start_idx += len(atoms) # understand this part of the function\n",
    "            cg_idx += 1    \n",
    "    \n",
    "    # Apply mapping for XYZ coordinates\n",
    "    cg_xyz = np.empty((t.n_frames, len(system_mapping), 3))\n",
    "    for cg_bead, aa_indices in system_mapping.items():\n",
    "        cg_xyz[:, cg_bead, :] = md.compute_center_of_mass(t.atom_slice(aa_indices))\n",
    "        \n",
    "    # Apply mapping for Topology object\n",
    "    cg_top = md.Topology()\n",
    "    for cg_bead in system_mapping.keys(): #i got the keys keys keys\n",
    "        cg_top.add_atom('carbon', element.virtual_site, cg_top.add_residue('A', \n",
    "                            cg_top.add_chain())) \n",
    "        ## Check element and name for items 'A'\n",
    "        \n",
    "    compute_files(cg_xyz, cg_top)"
   ]
  },
  {
   "cell_type": "code",
   "execution_count": 5,
   "metadata": {
    "collapsed": true
   },
   "outputs": [],
   "source": [
    "def compute_files(cg_xyz, cg_top):\n",
    "    # Create Trajectory object and save to .dcd file \n",
    "    ## any file type might do - check with Tim\n",
    "    ## maybe save to file type that is the same as inputted file-type\n",
    "    cg_traj = md.Trajectory(cg_xyz, cg_top, time=None, \n",
    "                            unitcell_lengths=t.unitcell_lengths, \n",
    "                            unitcell_angles=t.unitcell_angles)\n",
    "    cg_traj.save_dcd('cg_traj.dcd') ## need check statements to prevent file overwrite\n",
    "                                    ## rename old/new files accordingly\n",
    "\n",
    "    # Create rdfs file from pairs\n",
    "    pairs = cg_traj.top.select_pairs(selection1='name \"carbon\"', \n",
    "                                     selection2='name \"carbon\"') # Check element\n",
    "    r, g_r = md.compute_rdf(cg_traj, pairs=pairs, \n",
    "                            r_range=(0, 1.2), bin_width=0.005) \n",
    "                    ## identify end of range with data pairs\n",
    "                    ## maybe something with read-file function - compare data values next to each other\n",
    "                    ## See where data drop-off occurs and plot respectively\n",
    "    np.savetxt('rdfs_aa.txt', np.transpose([r, g_r])) # need check statements to prevent file overwrite\n",
    "    \n",
    "    plot_output(r, g_r)"
   ]
  },
  {
   "cell_type": "code",
   "execution_count": 6,
   "metadata": {
    "collapsed": true
   },
   "outputs": [],
   "source": [
    "def plot_output(x, y):\n",
    "    ## modify figsize according to drowpoff point\n",
    "    plt.figure(num=None, figsize=(16, 12), dpi=80, facecolor='w', edgecolor='k')\n",
    "    plt.plot(x, y, label=\"CG Propane\") ## Check label use string format method\n",
    "    \n",
    "    ## look up more aesthetic matplotlib functions\n",
    "    plt.xlabel(\"r\")\n",
    "    plt.ylabel(\"g(r)\")\n",
    "    plt.legend()"
   ]
  },
  {
   "cell_type": "code",
   "execution_count": 7,
   "metadata": {
    "collapsed": true
   },
   "outputs": [],
   "source": [
    "def convert_Traj_RDF(element_names):\n",
    "    ## add parameters to function calls - maybe add other functions\n",
    "    ## other potential functions:\n",
    "    ##     - check_file_overwrite()\n",
    "    ##     - check_g_r_dropoff() - integrate with plot function\n",
    "    ##     - account_for_different_file_types() - read in files\n",
    "    \n",
    "    initialize(element_names)"
   ]
  },
  {
   "cell_type": "code",
   "execution_count": 8,
   "metadata": {},
   "outputs": [
    {
     "ename": "NameError",
     "evalue": "name 'element' is not defined",
     "output_type": "error",
     "traceback": [
      "\u001b[0;31m---------------------------------------------------------------------------\u001b[0m",
      "\u001b[0;31mNameError\u001b[0m                                 Traceback (most recent call last)",
      "\u001b[0;32m<ipython-input-8-20778c35f9ec>\u001b[0m in \u001b[0;36m<module>\u001b[0;34m()\u001b[0m\n\u001b[1;32m      5\u001b[0m \u001b[0mt\u001b[0m \u001b[0;34m=\u001b[0m \u001b[0mmd\u001b[0m\u001b[0;34m.\u001b[0m\u001b[0mload\u001b[0m\u001b[0;34m(\u001b[0m\u001b[0mtraj_filename\u001b[0m\u001b[0;34m,\u001b[0m \u001b[0mtop\u001b[0m\u001b[0;34m=\u001b[0m\u001b[0mstruct_filename\u001b[0m\u001b[0;34m)\u001b[0m\u001b[0;34m\u001b[0m\u001b[0m\n\u001b[1;32m      6\u001b[0m \u001b[0;34m\u001b[0m\u001b[0m\n\u001b[0;32m----> 7\u001b[0;31m \u001b[0mconvert_Traj_RDF\u001b[0m\u001b[0;34m(\u001b[0m\u001b[0melement_names\u001b[0m\u001b[0;34m)\u001b[0m\u001b[0;34m\u001b[0m\u001b[0m\n\u001b[0m",
      "\u001b[0;32m<ipython-input-7-9e1621271fb8>\u001b[0m in \u001b[0;36mconvert_Traj_RDF\u001b[0;34m(element_names)\u001b[0m\n\u001b[1;32m      6\u001b[0m     \u001b[0;31m##     - account_for_different_file_types() - read in files\u001b[0m\u001b[0;34m\u001b[0m\u001b[0;34m\u001b[0m\u001b[0m\n\u001b[1;32m      7\u001b[0m \u001b[0;34m\u001b[0m\u001b[0m\n\u001b[0;32m----> 8\u001b[0;31m     \u001b[0minitialize\u001b[0m\u001b[0;34m(\u001b[0m\u001b[0melement_names\u001b[0m\u001b[0;34m)\u001b[0m\u001b[0;34m\u001b[0m\u001b[0m\n\u001b[0m",
      "\u001b[0;32m<ipython-input-3-4ae2b04d2739>\u001b[0m in \u001b[0;36minitialize\u001b[0;34m(element_names)\u001b[0m\n\u001b[1;32m     11\u001b[0m         \u001b[0matom\u001b[0m\u001b[0;34m.\u001b[0m\u001b[0melement\u001b[0m \u001b[0;34m=\u001b[0m \u001b[0melement\u001b[0m\u001b[0;34m.\u001b[0m\u001b[0mcarbon\u001b[0m \u001b[0;31m# check element\u001b[0m\u001b[0;34m\u001b[0m\u001b[0m\n\u001b[1;32m     12\u001b[0m \u001b[0;34m\u001b[0m\u001b[0m\n\u001b[0;32m---> 13\u001b[0;31m     \u001b[0mmap_beads\u001b[0m\u001b[0;34m(\u001b[0m\u001b[0mt\u001b[0m\u001b[0;34m.\u001b[0m\u001b[0mtop\u001b[0m\u001b[0;34m.\u001b[0m\u001b[0matoms\u001b[0m\u001b[0;34m)\u001b[0m\u001b[0;34m\u001b[0m\u001b[0m\n\u001b[0m",
      "\u001b[0;32m<ipython-input-4-c31d22320162>\u001b[0m in \u001b[0;36mmap_beads\u001b[0;34m(atoms)\u001b[0m\n\u001b[1;32m     22\u001b[0m     \u001b[0mcg_top\u001b[0m \u001b[0;34m=\u001b[0m \u001b[0mmd\u001b[0m\u001b[0;34m.\u001b[0m\u001b[0mTopology\u001b[0m\u001b[0;34m(\u001b[0m\u001b[0;34m)\u001b[0m\u001b[0;34m\u001b[0m\u001b[0m\n\u001b[1;32m     23\u001b[0m     \u001b[0;32mfor\u001b[0m \u001b[0mcg_bead\u001b[0m \u001b[0;32min\u001b[0m \u001b[0msystem_mapping\u001b[0m\u001b[0;34m.\u001b[0m\u001b[0mkeys\u001b[0m\u001b[0;34m(\u001b[0m\u001b[0;34m)\u001b[0m\u001b[0;34m:\u001b[0m \u001b[0;31m#i got the keys keys keys\u001b[0m\u001b[0;34m\u001b[0m\u001b[0m\n\u001b[0;32m---> 24\u001b[0;31m         cg_top.add_atom('carbon', element.virtual_site, cg_top.add_residue('A', \n\u001b[0m\u001b[1;32m     25\u001b[0m                             cg_top.add_chain())) \n\u001b[1;32m     26\u001b[0m         \u001b[0;31m## Check element and name for items 'A'\u001b[0m\u001b[0;34m\u001b[0m\u001b[0;34m\u001b[0m\u001b[0m\n",
      "\u001b[0;31mNameError\u001b[0m: name 'element' is not defined"
     ]
    }
   ],
   "source": [
    "# Execute functions\n",
    "element_names = [\"carbon\"]\n",
    "traj_filename = 'traj_unwrapped.dcd'\n",
    "struct_filename = 'start_aa.hoomdxml'\n",
    "t = md.load(traj_filename, top=struct_filename)\n",
    "\n",
    "convert_Traj_RDF(element_names)"
   ]
  },
  {
   "cell_type": "code",
   "execution_count": null,
   "metadata": {
    "collapsed": true
   },
   "outputs": [],
   "source": []
  }
 ],
 "metadata": {
  "kernelspec": {
   "display_name": "Python 3",
   "language": "python",
   "name": "python3"
  },
  "language_info": {
   "codemirror_mode": {
    "name": "ipython",
    "version": 3
   },
   "file_extension": ".py",
   "mimetype": "text/x-python",
   "name": "python",
   "nbconvert_exporter": "python",
   "pygments_lexer": "ipython3",
   "version": "3.5.3"
  },
  "widgets": {
   "state": {
    "0167551767ac4299a760fb1f479ad1b1": {
     "views": [
      {
       "cell_index": 2
      }
     ]
    },
    "0c7a72e241b341ab8ca29ce3292b3ea3": {
     "views": [
      {
       "cell_index": 2
      }
     ]
    },
    "1fca05dfeb3d4987893759f4cc0520ea": {
     "views": [
      {
       "cell_index": 3
      }
     ]
    },
    "56215d591c034eff8b0899b7e18d5cba": {
     "views": [
      {
       "cell_index": 3
      }
     ]
    }
   },
   "version": "1.2.0"
  }
 },
 "nbformat": 4,
 "nbformat_minor": 1
}
