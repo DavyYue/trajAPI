{
 "cells": [
  {
   "cell_type": "markdown",
   "metadata": {},
   "source": [
    "# testAPI_automate\n",
    "\n",
    "Created by Davy Yue 2017-06-26"
   ]
  },
  {
   "cell_type": "markdown",
   "metadata": {},
   "source": [
    "## Testing for Conversion into Function/Class ==============================\n",
    "\n",
    "Code May Break At Anytime"
   ]
  },
  {
   "cell_type": "code",
   "execution_count": null,
   "metadata": {
    "collapsed": true
   },
   "outputs": [],
   "source": [
    "## 2017_06_27 1:00 PM CST\n",
    "## **** DEBUGGING/TESTING NOTES ****\n",
    "## - think about inputs and outputs\n",
    "## - think about where variables can be passed as parameters\n",
    "## - need test cases - maybe with n-dodecane\n",
    "## - need more filetypes to read instead of just hoomdxml\n",
    "## - check with generated rdfs from testAPI_propane to compare results\n",
    "## - maybe use more functions to call\n",
    "## - consider adaptation for other elements (any periodic ones)\n",
    "##       use element dictionary in msibi repo"
   ]
  },
  {
   "cell_type": "markdown",
   "metadata": {},
   "source": [
    "### Imports"
   ]
  },
  {
   "cell_type": "code",
   "execution_count": 2,
   "metadata": {},
   "outputs": [],
   "source": [
    "import itertools\n",
    "import string\n",
    "import os\n",
    "import xml.etree.cElementTree as ET\n",
    "\n",
    "from periodic import element\n",
    "import numpy as np\n",
    "import matplotlib.pyplot as plt\n",
    "%matplotlib inline\n",
    "\n",
    "from msibi import MSIBI, State, Pair, mie\n",
    "import mdtraj as md\n",
    "\n",
    "## check possible other packages to ease process"
   ]
  },
  {
   "cell_type": "markdown",
   "metadata": {},
   "source": [
    "### Functions"
   ]
  },
  {
   "cell_type": "code",
   "execution_count": null,
   "metadata": {
    "collapsed": true
   },
   "outputs": [],
   "source": [
    "# TEST BOX\n",
    "# SMILES\n",
    "# https://docs.eyesopen.com/toolkits/python/oechemtk/SMILES.html\n",
    "# http://www.daylight.com/dayhtml/doc/theory/theory.smarts.html\n",
    "# http://www.daylight.com/dayhtml/doc/theory/theory.smiles.html\n",
    "  # File Format: # need to optimize documentation for SMILES parser\n",
    "  # type: string, \"center element, number of surround elements,\n",
    "  #       location in bead\"\n",
    "  #       - Element symbol corresponding with periodic-table abbreviation\n",
    "  #       - A for only bead, E for ends of bead, M for middle of bead\n",
    "  # elements: string, SMILES format\n",
    "  #       - Element symbol corresponding with periodic-table abbreviation\n",
    "  #       - Element ordering follows same position in string as indices\n",
    "# https://pubchem.ncbi.nlm.nih.gov/search/help_search.html\n",
    "\n",
    "def read_user_mapping(user_mapping_filename):\n",
    "    root = ET.parse(user_mapping_filename).getroot()\n",
    "    \n",
    "    # Get molecule_name\n",
    "    bead = root.find('bead')\n",
    "    molecule_name = bead.attrib[\"molecule_name\"]\n",
    "    \n",
    "    # Get element_names, n_unitsPerSection\n",
    "    element_names = []\n",
    "    n_sections_BEAD = 0\n",
    "    n_unitsPerSection = 0 # number units per section being combined\n",
    "    for section in bead.findall('section'):\n",
    "        # allow for different number of units in each section per bead\n",
    "        # Element identification using Periodic python package\n",
    "        # https://github.com/luisnaranjo733/periodic\n",
    "        element_symb = section.attrib[\"elements\"] \n",
    "        valids = []\n",
    "        for character in element_symb:\n",
    "            if character.isalpha():\n",
    "                valids.append(character)\n",
    "        element_symb = ''.join(valids)\n",
    "        element_symb = ''.join(ch for ch, _ in itertools.groupby(element_symb))\n",
    "        \n",
    "        n_unitsPerSection = elements_symb.count(\"C\") \n",
    "        # need to modify for different center elements\n",
    "        # counts number of carbon center atoms since each section is organic\n",
    "        # \n",
    "     \n",
    "    print(n_unitsPerSection)\n",
    "    # check later for more different elements with loop\n",
    "    \n",
    "    return n_unitsPerSection, molecule_name, element_names   \n",
    "# read_user_mapping(user_mapping_filename='propane_user_mapping.xml')"
   ]
  },
  {
   "cell_type": "code",
   "execution_count": null,
   "metadata": {
    "collapsed": true
   },
   "outputs": [],
   "source": [
    "def read_system_info(struct_filename):\n",
    "    root = ET.parse(struct_filename).getroot()\n",
    "    n_unitsTotal = int(root.find('configuration').find('position').attrib['num'])\n",
    "    print(n_unitsTotal) \n",
    "    \n",
    "    return n_unitsTotal\n",
    "    \n",
    "# read_system_info(struct_filename='start_aa.hoomdxml')"
   ]
  },
  {
   "cell_type": "code",
   "execution_count": null,
   "metadata": {
    "collapsed": true
   },
   "outputs": [],
   "source": [
    "def create_system_mapping(element_names, n_sections_TOTAL, t):\n",
    "    # Initialize atoms with elements\n",
    "    ## for loop to traverse element_names array for elements\n",
    "    ## first test - only use for carbon (one element)\n",
    "    ## then expand later\n",
    "    ## need to allow for different types of elements together\n",
    "    ## maybe use element library from msibi repo\n",
    "    from mdtraj.core import element\n",
    "    list(t.top.atoms)[0].element = element.carbon # check element\n",
    "    list(t.top.atoms)[0].element.mass\n",
    "    for atom in t.top.atoms:\n",
    "        atom.element = element.carbon # check element\n",
    "    \n",
    "    # Map the beads accordingly\n",
    "    cg_idx = 0\n",
    "    start_idx = 0\n",
    "    propane_map = {0: [0, 1, 2]} ## need better mapping definition\n",
    "                                ## maybe integrate mapping with file read-in\n",
    "                                ## flesh out in meeting (Tim, Justin, Alex)\n",
    "    ## TEST CODE\n",
    "    ######################################################################\n",
    "    ######################################################################\n",
    "    \n",
    "    \n",
    "    \n",
    "    ######################################################################\n",
    "    ######################################################################\n",
    "    ## TEST CODE\n",
    "    \n",
    "            \n",
    "    system_mapping = {}\n",
    "    for n in range(n_sections_TOTAL):\n",
    "        for bead, atoms in propane_map.items():\n",
    "            system_mapping[cg_idx] = [x + start_idx for x in atoms]\n",
    "            start_idx += len(atoms) # understand this part of the function\n",
    "            cg_idx += 1    \n",
    "    \n",
    "    # Apply mapping for XYZ coordinates\n",
    "    cg_xyz = np.empty((t.n_frames, len(system_mapping), 3))\n",
    "    for cg_bead, aa_indices in system_mapping.items():\n",
    "        cg_xyz[:, cg_bead, :] = md.compute_center_of_mass(t.atom_slice(aa_indices))\n",
    "        \n",
    "    # Apply mapping for Topology object\n",
    "    cg_top = md.Topology()\n",
    "    for cg_bead in system_mapping.keys(): #i got the keys keys keys\n",
    "        cg_top.add_atom('carbon', element.virtual_site, cg_top.add_residue('A', \n",
    "                            cg_top.add_chain())) \n",
    "        ## Check element and name for items 'A'\n",
    "        ## Possible interface with mbuild for better UI and aesthetics\n",
    "        \n",
    "        \n",
    "    return cg_xyz, cg_top"
   ]
  },
  {
   "cell_type": "code",
   "execution_count": null,
   "metadata": {
    "collapsed": true
   },
   "outputs": [],
   "source": [
    "def compute_files(cg_xyz, cg_top, t, molecule_name):\n",
    "    # Create Trajectory object and save to .dcd file \n",
    "    ## any file type might do - check with Tim\n",
    "    ## maybe save to file type that is the same as inputted file-type\n",
    "    cg_traj = md.Trajectory(cg_xyz, cg_top, time=None, \n",
    "                            unitcell_lengths=t.unitcell_lengths, \n",
    "                            unitcell_angles=t.unitcell_angles)\n",
    "    ## need better file naming convention and rule guideline\n",
    "    cg_traj.save_dcd('cg_traj_{0:s}.dcd'.format(element_names[0])) ## need check statements to prevent file overwrite\n",
    "                                    ## rename old/new files accordingly\n",
    "\n",
    "    # Create rdfs file from pairs\n",
    "    ## might need for loop if more elements (later implementation)\n",
    "    ## need some way to recognize pairs of units - not just carbon elements if expanded\n",
    "    pairs = cg_traj.top.select_pairs(selection1='name {0:s}'.format(element_names[0]), ## Check element\n",
    "                                     selection2='name {0:s}'.format(element_names[0])) ## Check element\n",
    "    r, g_r = md.compute_rdf(cg_traj, pairs=pairs, \n",
    "                            r_range=(0, 1.2), bin_width=0.005) \n",
    "                    ## identify end of range with data pairs\n",
    "                    ## maybe something with read-file function - compare data values next to each other\n",
    "                    ## See where data drop-off occurs and plot respectively\n",
    "                    ## maybe use slope - negative less than some number, set as cutoff\n",
    "                    ## record cutoff point somewhere for debugging purposes\n",
    "    np.savetxt('rdfs_aa.txt', np.transpose([r, g_r])) # need check statements to prevent file overwrite\n",
    "    \n",
    "    plot_output(r, g_r, molecule_name)"
   ]
  },
  {
   "cell_type": "code",
   "execution_count": null,
   "metadata": {
    "collapsed": true
   },
   "outputs": [],
   "source": [
    "def plot_output(x, y, molecule_name):\n",
    "    ## modify figsize according to drop-off point\n",
    "    plt.figure(num=None, figsize=(16, 12), dpi=80, facecolor='w', edgecolor='k')\n",
    "    plt.plot(x, y, label=\"CG {0:s}\".format(molecule_name)) ## Check label use string format method\n",
    "    \n",
    "    ## look up more aesthetic matplotlib functions\n",
    "    plt.xlabel(\"r\")\n",
    "    plt.ylabel(\"g(r)\")\n",
    "    plt.legend()"
   ]
  },
  {
   "cell_type": "code",
   "execution_count": null,
   "metadata": {
    "collapsed": true
   },
   "outputs": [],
   "source": [
    "def convert_Traj_RDF():\n",
    "    ## add parameters to function calls - maybe add other functions\n",
    "    ## other potential functions:\n",
    "    ##     - check_file_overwrite()\n",
    "    ##     - check_g_r_dropoff() - integrate with plot function\n",
    "    ##     - manage_filetypes() - read in files\n",
    "    \n",
    "    traj_filename = 'traj_unwrapped.dcd'\n",
    "    struct_filename = 'start_aa.hoomdxml'\n",
    "    user_mapping_filename = 'propane_user_mapping.xml'\n",
    "    \n",
    "    t = md.load(traj_filename, top=struct_filename)\n",
    "    n_units_TOTAL = read_system_info(struct_filename)\n",
    "    n_unitsPerSection, molecule_name, element_names = read_user_mapping(user_mapping_filename)\n",
    "    n_sections_TOTAL = n_units_TOTAL // n_unitsPerSection\n",
    "    \n",
    "    cg_xyz, cg_top = create_system_mapping(element_names, n_sections_TOTAL, t)\n",
    "    compute_files(cg_xyz, cg_top, t, molecule_name)"
   ]
  },
  {
   "cell_type": "code",
   "execution_count": null,
   "metadata": {},
   "outputs": [],
   "source": [
    "# Execute functions\n",
    "## maybe use dictionary for element_names?\n",
    "## incorporate the arguments in initialization for map_beads()\n",
    "## maybe initialize element_names array from read-in file with bonds\n",
    "## bonds recorded in structure indicate elements involved in rdf\n",
    "convert_Traj_RDF()"
   ]
  },
  {
   "cell_type": "code",
   "execution_count": 3,
   "metadata": {},
   "outputs": [
    {
     "name": "stdout",
     "output_type": "stream",
     "text": [
      "CHCHCH\n"
     ]
    }
   ],
   "source": [
    "# TEST CELL FOR CHECKING CODE BEFORE INCORPORATION INTO PROGRAM\n",
    "# CODE MAY BREAK BELOW\n",
    "\n",
    "element_symb = \"[CH3][CH2][CH3]\" \n",
    "valids = []\n",
    "for character in element_symb:\n",
    "    if character.isalpha():\n",
    "           valids.append(character)\n",
    "element_symb = ''.join(valids) \n",
    "element_symb = ''.join(ch for ch, _ in itertools.groupby(element_symb))\n",
    "\n",
    "print(element_symb)"
   ]
  },
  {
   "cell_type": "code",
   "execution_count": null,
   "metadata": {
    "collapsed": true
   },
   "outputs": [],
   "source": [
    "# TEST CELL FOR FOYER\n",
    "\n",
    "from foyer.smarts_graph import SMARTSGraph\n",
    "from foyer.smarts import SMARTSParser\n",
    "import parmed as pmd\n",
    "\n",
    "structure = pmd.load_file('dppc.mol2')\n",
    "\n",
    "smarts = 'CCC'\n",
    "parser = SMARTSParser()\n",
    "\n",
    "graph = SMARTSGraph(smarts, parser=parser)\n",
    "\n",
    "matches = graph.find_matches(structure)"
   ]
  }
 ],
 "metadata": {
  "kernelspec": {
   "display_name": "Python 3",
   "language": "python",
   "name": "python3"
  },
  "language_info": {
   "codemirror_mode": {
    "name": "ipython",
    "version": 3
   },
   "file_extension": ".py",
   "mimetype": "text/x-python",
   "name": "python",
   "nbconvert_exporter": "python",
   "pygments_lexer": "ipython3",
   "version": "3.5.3"
  },
  "widgets": {
   "state": {
    "0167551767ac4299a760fb1f479ad1b1": {
     "views": [
      {
       "cell_index": 2
      }
     ]
    },
    "0c7a72e241b341ab8ca29ce3292b3ea3": {
     "views": [
      {
       "cell_index": 2
      }
     ]
    },
    "1fca05dfeb3d4987893759f4cc0520ea": {
     "views": [
      {
       "cell_index": 3
      }
     ]
    },
    "56215d591c034eff8b0899b7e18d5cba": {
     "views": [
      {
       "cell_index": 3
      }
     ]
    }
   },
   "version": "1.2.0"
  }
 },
 "nbformat": 4,
 "nbformat_minor": 1
}
